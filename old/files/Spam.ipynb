{
 "metadata": {
  "language_info": {
   "codemirror_mode": {
    "name": "ipython",
    "version": 3
   },
   "file_extension": ".py",
   "mimetype": "text/x-python",
   "name": "python",
   "nbconvert_exporter": "python",
   "pygments_lexer": "ipython3",
   "version": "3.7.0-final"
  },
  "orig_nbformat": 2,
  "kernelspec": {
   "name": "Python 3.7.0 64-bit",
   "display_name": "Python 3.7.0 64-bit",
   "metadata": {
    "interpreter": {
     "hash": "aee8b7b246df8f9039afb4144a1f6fd8d2ca17a180786b69acc140d282b71a49"
    }
   }
  }
 },
 "nbformat": 4,
 "nbformat_minor": 2,
 "cells": [
  {
   "cell_type": "code",
   "execution_count": 1,
   "metadata": {},
   "outputs": [],
   "source": [
    "import numpy as np \n",
    "import pandas as pd \n",
    "import matplotlib.pyplot as plt\n",
    "import string\n",
    "import re\n",
    "from nltk.stem.porter import PorterStemmer\n",
    "import random\n",
    "from sklearn.model_selection import train_test_split"
   ]
  },
  {
   "cell_type": "code",
   "execution_count": 2,
   "metadata": {},
   "outputs": [
    {
     "output_type": "execute_result",
     "data": {
      "text/plain": [
       "        v1                                                 v2 Unnamed: 2  \\\n",
       "0      ham  Go until jurong point, crazy.. Available only ...        NaN   \n",
       "1      ham                      Ok lar... Joking wif u oni...        NaN   \n",
       "2     spam  Free entry in 2 a wkly comp to win FA Cup fina...        NaN   \n",
       "3      ham  U dun say so early hor... U c already then say...        NaN   \n",
       "4      ham  Nah I don't think he goes to usf, he lives aro...        NaN   \n",
       "...    ...                                                ...        ...   \n",
       "5567  spam  This is the 2nd time we have tried 2 contact u...        NaN   \n",
       "5568   ham              Will Ì_ b going to esplanade fr home?        NaN   \n",
       "5569   ham  Pity, * was in mood for that. So...any other s...        NaN   \n",
       "5570   ham  The guy did some bitching but I acted like i'd...        NaN   \n",
       "5571   ham                         Rofl. Its true to its name        NaN   \n",
       "\n",
       "     Unnamed: 3 Unnamed: 4  \n",
       "0           NaN        NaN  \n",
       "1           NaN        NaN  \n",
       "2           NaN        NaN  \n",
       "3           NaN        NaN  \n",
       "4           NaN        NaN  \n",
       "...         ...        ...  \n",
       "5567        NaN        NaN  \n",
       "5568        NaN        NaN  \n",
       "5569        NaN        NaN  \n",
       "5570        NaN        NaN  \n",
       "5571        NaN        NaN  \n",
       "\n",
       "[5572 rows x 5 columns]"
      ],
      "text/html": "<div>\n<style scoped>\n    .dataframe tbody tr th:only-of-type {\n        vertical-align: middle;\n    }\n\n    .dataframe tbody tr th {\n        vertical-align: top;\n    }\n\n    .dataframe thead th {\n        text-align: right;\n    }\n</style>\n<table border=\"1\" class=\"dataframe\">\n  <thead>\n    <tr style=\"text-align: right;\">\n      <th></th>\n      <th>v1</th>\n      <th>v2</th>\n      <th>Unnamed: 2</th>\n      <th>Unnamed: 3</th>\n      <th>Unnamed: 4</th>\n    </tr>\n  </thead>\n  <tbody>\n    <tr>\n      <th>0</th>\n      <td>ham</td>\n      <td>Go until jurong point, crazy.. Available only ...</td>\n      <td>NaN</td>\n      <td>NaN</td>\n      <td>NaN</td>\n    </tr>\n    <tr>\n      <th>1</th>\n      <td>ham</td>\n      <td>Ok lar... Joking wif u oni...</td>\n      <td>NaN</td>\n      <td>NaN</td>\n      <td>NaN</td>\n    </tr>\n    <tr>\n      <th>2</th>\n      <td>spam</td>\n      <td>Free entry in 2 a wkly comp to win FA Cup fina...</td>\n      <td>NaN</td>\n      <td>NaN</td>\n      <td>NaN</td>\n    </tr>\n    <tr>\n      <th>3</th>\n      <td>ham</td>\n      <td>U dun say so early hor... U c already then say...</td>\n      <td>NaN</td>\n      <td>NaN</td>\n      <td>NaN</td>\n    </tr>\n    <tr>\n      <th>4</th>\n      <td>ham</td>\n      <td>Nah I don't think he goes to usf, he lives aro...</td>\n      <td>NaN</td>\n      <td>NaN</td>\n      <td>NaN</td>\n    </tr>\n    <tr>\n      <th>...</th>\n      <td>...</td>\n      <td>...</td>\n      <td>...</td>\n      <td>...</td>\n      <td>...</td>\n    </tr>\n    <tr>\n      <th>5567</th>\n      <td>spam</td>\n      <td>This is the 2nd time we have tried 2 contact u...</td>\n      <td>NaN</td>\n      <td>NaN</td>\n      <td>NaN</td>\n    </tr>\n    <tr>\n      <th>5568</th>\n      <td>ham</td>\n      <td>Will Ì_ b going to esplanade fr home?</td>\n      <td>NaN</td>\n      <td>NaN</td>\n      <td>NaN</td>\n    </tr>\n    <tr>\n      <th>5569</th>\n      <td>ham</td>\n      <td>Pity, * was in mood for that. So...any other s...</td>\n      <td>NaN</td>\n      <td>NaN</td>\n      <td>NaN</td>\n    </tr>\n    <tr>\n      <th>5570</th>\n      <td>ham</td>\n      <td>The guy did some bitching but I acted like i'd...</td>\n      <td>NaN</td>\n      <td>NaN</td>\n      <td>NaN</td>\n    </tr>\n    <tr>\n      <th>5571</th>\n      <td>ham</td>\n      <td>Rofl. Its true to its name</td>\n      <td>NaN</td>\n      <td>NaN</td>\n      <td>NaN</td>\n    </tr>\n  </tbody>\n</table>\n<p>5572 rows × 5 columns</p>\n</div>"
     },
     "metadata": {},
     "execution_count": 2
    }
   ],
   "source": [
    "# Read the Data\n",
    "data = pd.read_csv('spam.csv', encoding = 'latin-1')\n",
    "data"
   ]
  },
  {
   "cell_type": "code",
   "execution_count": 3,
   "metadata": {},
   "outputs": [
    {
     "output_type": "execute_result",
     "data": {
      "text/plain": [
       "     label                                               text\n",
       "0      ham  Go until jurong point, crazy.. Available only ...\n",
       "1      ham                      Ok lar... Joking wif u oni...\n",
       "2     spam  Free entry in 2 a wkly comp to win FA Cup fina...\n",
       "3      ham  U dun say so early hor... U c already then say...\n",
       "4      ham  Nah I don't think he goes to usf, he lives aro...\n",
       "...    ...                                                ...\n",
       "5567  spam  This is the 2nd time we have tried 2 contact u...\n",
       "5568   ham              Will Ì_ b going to esplanade fr home?\n",
       "5569   ham  Pity, * was in mood for that. So...any other s...\n",
       "5570   ham  The guy did some bitching but I acted like i'd...\n",
       "5571   ham                         Rofl. Its true to its name\n",
       "\n",
       "[5572 rows x 2 columns]"
      ],
      "text/html": "<div>\n<style scoped>\n    .dataframe tbody tr th:only-of-type {\n        vertical-align: middle;\n    }\n\n    .dataframe tbody tr th {\n        vertical-align: top;\n    }\n\n    .dataframe thead th {\n        text-align: right;\n    }\n</style>\n<table border=\"1\" class=\"dataframe\">\n  <thead>\n    <tr style=\"text-align: right;\">\n      <th></th>\n      <th>label</th>\n      <th>text</th>\n    </tr>\n  </thead>\n  <tbody>\n    <tr>\n      <th>0</th>\n      <td>ham</td>\n      <td>Go until jurong point, crazy.. Available only ...</td>\n    </tr>\n    <tr>\n      <th>1</th>\n      <td>ham</td>\n      <td>Ok lar... Joking wif u oni...</td>\n    </tr>\n    <tr>\n      <th>2</th>\n      <td>spam</td>\n      <td>Free entry in 2 a wkly comp to win FA Cup fina...</td>\n    </tr>\n    <tr>\n      <th>3</th>\n      <td>ham</td>\n      <td>U dun say so early hor... U c already then say...</td>\n    </tr>\n    <tr>\n      <th>4</th>\n      <td>ham</td>\n      <td>Nah I don't think he goes to usf, he lives aro...</td>\n    </tr>\n    <tr>\n      <th>...</th>\n      <td>...</td>\n      <td>...</td>\n    </tr>\n    <tr>\n      <th>5567</th>\n      <td>spam</td>\n      <td>This is the 2nd time we have tried 2 contact u...</td>\n    </tr>\n    <tr>\n      <th>5568</th>\n      <td>ham</td>\n      <td>Will Ì_ b going to esplanade fr home?</td>\n    </tr>\n    <tr>\n      <th>5569</th>\n      <td>ham</td>\n      <td>Pity, * was in mood for that. So...any other s...</td>\n    </tr>\n    <tr>\n      <th>5570</th>\n      <td>ham</td>\n      <td>The guy did some bitching but I acted like i'd...</td>\n    </tr>\n    <tr>\n      <th>5571</th>\n      <td>ham</td>\n      <td>Rofl. Its true to its name</td>\n    </tr>\n  </tbody>\n</table>\n<p>5572 rows × 2 columns</p>\n</div>"
     },
     "metadata": {},
     "execution_count": 3
    }
   ],
   "source": [
    "# Drop the Unnecessary Columns\n",
    "if len(data.columns) > 3: \n",
    "    data = data.drop(['Unnamed: 2', 'Unnamed: 3', 'Unnamed: 4'], axis = 1)\n",
    "\n",
    "# Rename the Remaining Columns\n",
    "if data.columns[0] != 'label':\n",
    "    data = data.rename(columns = {'v1': 'label', 'v2': 'text'})\n",
    "\n",
    "data"
   ]
  },
  {
   "cell_type": "code",
   "execution_count": 4,
   "metadata": {},
   "outputs": [
    {
     "output_type": "execute_result",
     "data": {
      "text/plain": [
       "ham     4825\n",
       "spam     747\n",
       "Name: label, dtype: int64"
      ]
     },
     "metadata": {},
     "execution_count": 4
    }
   ],
   "source": [
    "data.label.value_counts()"
   ]
  },
  {
   "cell_type": "code",
   "execution_count": 5,
   "metadata": {},
   "outputs": [
    {
     "output_type": "execute_result",
     "data": {
      "text/plain": [
       "      label                                               text\n",
       "0         0  Go until jurong point, crazy.. Available only ...\n",
       "1         0                      Ok lar... Joking wif u oni...\n",
       "2         1  Free entry in 2 a wkly comp to win FA Cup fina...\n",
       "3         0  U dun say so early hor... U c already then say...\n",
       "4         0  Nah I don't think he goes to usf, he lives aro...\n",
       "...     ...                                                ...\n",
       "5567      1  This is the 2nd time we have tried 2 contact u...\n",
       "5568      0              Will Ì_ b going to esplanade fr home?\n",
       "5569      0  Pity, * was in mood for that. So...any other s...\n",
       "5570      0  The guy did some bitching but I acted like i'd...\n",
       "5571      0                         Rofl. Its true to its name\n",
       "\n",
       "[5572 rows x 2 columns]"
      ],
      "text/html": "<div>\n<style scoped>\n    .dataframe tbody tr th:only-of-type {\n        vertical-align: middle;\n    }\n\n    .dataframe tbody tr th {\n        vertical-align: top;\n    }\n\n    .dataframe thead th {\n        text-align: right;\n    }\n</style>\n<table border=\"1\" class=\"dataframe\">\n  <thead>\n    <tr style=\"text-align: right;\">\n      <th></th>\n      <th>label</th>\n      <th>text</th>\n    </tr>\n  </thead>\n  <tbody>\n    <tr>\n      <th>0</th>\n      <td>0</td>\n      <td>Go until jurong point, crazy.. Available only ...</td>\n    </tr>\n    <tr>\n      <th>1</th>\n      <td>0</td>\n      <td>Ok lar... Joking wif u oni...</td>\n    </tr>\n    <tr>\n      <th>2</th>\n      <td>1</td>\n      <td>Free entry in 2 a wkly comp to win FA Cup fina...</td>\n    </tr>\n    <tr>\n      <th>3</th>\n      <td>0</td>\n      <td>U dun say so early hor... U c already then say...</td>\n    </tr>\n    <tr>\n      <th>4</th>\n      <td>0</td>\n      <td>Nah I don't think he goes to usf, he lives aro...</td>\n    </tr>\n    <tr>\n      <th>...</th>\n      <td>...</td>\n      <td>...</td>\n    </tr>\n    <tr>\n      <th>5567</th>\n      <td>1</td>\n      <td>This is the 2nd time we have tried 2 contact u...</td>\n    </tr>\n    <tr>\n      <th>5568</th>\n      <td>0</td>\n      <td>Will Ì_ b going to esplanade fr home?</td>\n    </tr>\n    <tr>\n      <th>5569</th>\n      <td>0</td>\n      <td>Pity, * was in mood for that. So...any other s...</td>\n    </tr>\n    <tr>\n      <th>5570</th>\n      <td>0</td>\n      <td>The guy did some bitching but I acted like i'd...</td>\n    </tr>\n    <tr>\n      <th>5571</th>\n      <td>0</td>\n      <td>Rofl. Its true to its name</td>\n    </tr>\n  </tbody>\n</table>\n<p>5572 rows × 2 columns</p>\n</div>"
     },
     "metadata": {},
     "execution_count": 5
    }
   ],
   "source": [
    "# Convert Label to Numerical Values\n",
    "data['label'] = data.label.map({'ham': 0, 'spam': 1})\n",
    "data"
   ]
  },
  {
   "cell_type": "code",
   "execution_count": 6,
   "metadata": {},
   "outputs": [
    {
     "output_type": "execute_result",
     "data": {
      "text/plain": [
       ",\n",
       " ('\\\\Petey boy whereare you me and all your friendsare in theKingshead come down if you canlove Nic\\\\\"\"',\n",
       "  0),\n",
       " ('Ok i msg u b4 i leave my house.', 0),\n",
       " ('\\\\Gimme a few\\\\\" was  &lt;#&gt;  minutes ago\"', 0),\n",
       " ('Last Chance! Claim ur å£150 worth of discount vouchers today! Text SHOP to 85023 now! SavaMob, offers mobile! T Cs SavaMob POBOX84, M263UZ. å£3.00 Sub. 16',\n",
       "  1),\n",
       " (\"Appt is at &lt;TIME&gt; am. Not my fault u don't listen. I told u twice\",\n",
       "  0),\n",
       " ('FREE for 1st week! No1 Nokia tone 4 ur mobile every week just txt NOKIA to 8077 Get txting and tell ur mates. www.getzed.co.uk POBox 36504 W45WQ 16+ norm150p/tone',\n",
       "  1),\n",
       " ('You have won a guaranteed å£200 award or even å£1000 cashto claim UR award call free on 08000407165 (18+) 2 stop getstop on 88222 PHP. RG21 4JX',\n",
       "  1),\n",
       " (\"K I'll be there before 4.\", 0),\n",
       " ('I dled 3d its very imp', 0),\n",
       " (\"sure, but make sure he knows we ain't smokin yet\", 0),\n",
       " ('Boooo you always work. Just quit.', 0),\n",
       " ('I am taking half day leave bec i am not well', 0),\n",
       " (\"Ugh I don't wanna get out of bed. It's so warm.\", 0),\n",
       " ('S:)s.nervous  &lt;#&gt; :)', 0),\n",
       " (\"So there's a ring that comes with the guys costumes. It's there so they can gift their future yowifes. Hint hint\",\n",
       "  0),\n",
       " ('Congratulations ur awarded either å£500 of CD gift vouchers & Free entry 2 our å£100 weekly draw txt MUSIC to 87066 TnCs www.Ldew.com1win150ppmx3age16',\n",
       "  1),\n",
       " ('I borrow ur bag ok.', 0),\n",
       " ('U were outbid by simonwatson5120 on the Shinco DVD Plyr. 2 bid again, visit sms. ac/smsrewards 2 end bid notifications, reply END OUT',\n",
       "  1),\n",
       " (\"Where's my boytoy? I miss you ... What happened?\", 0),\n",
       " (\"He has lots of used ones babe, but the model doesn't help. Youi have to bring it over and he'll match it up\",\n",
       "  0),\n",
       " ('Also are you bringing galileo or dobby', 0),\n",
       " ('Then why you not responding', 0),\n",
       " ('\\\\BOO BABE! U ENJOYIN YOURJOB? U SEEMED 2 B GETTIN ON WELL HUNNY!HOPE URE OK?TAKE CARE & IåÕLLSPEAK 2U SOONLOTS OF LOVEME XXXX.\\\\\"\"',\n",
       "  0),\n",
       " (\"Good afternoon starshine! How's my boytoy? Does he crave me yet? Ache to fuck me ? *sips cappuccino* I miss you babe *teasing kiss*\",\n",
       "  0),\n",
       " ('On the road so cant txt', 0),\n",
       " ('SMSSERVICES. for yourinclusive text credits, pls goto www.comuk.net login= 3qxj9 unsubscribe with STOP, no extra charge. help 08702840625.COMUK. 220-CM2 9AE',\n",
       "  1),\n",
       " (\"25p 4 alfie Moon's Children in need song on ur mob. Tell ur m8s. Txt Tone charity to 8007 for Nokias or Poly charity for polys: zed 08701417012 profit 2 charity.\",\n",
       "  1),\n",
       " ('Have a good evening! Ttyl', 0),\n",
       " ('Hmm .. Bits and pieces lol ... *sighs* ...', 0),\n",
       " ('Hahaha..use your brain dear', 0),\n",
       " ('Hey. You got any mail?', 0),\n",
       " ('Sorry light turned green, I meant another friend wanted  &lt;#&gt;  worth but he may not be around',\n",
       "  0),\n",
       " ('Thanks for yesterday sir. You have been wonderful. Hope you enjoyed the burial. MojiBiola',\n",
       "  0),\n",
       " ('U have a secret admirer. REVEAL who thinks U R So special. Call 09065174042. To opt out Reply REVEAL STOP. 1.50 per msg recd. Cust care 07821230901',\n",
       "  1),\n",
       " ('Hi mate its RV did u hav a nice hol just a message 3 say hello coz havenåÕt sent u 1 in ages started driving so stay off roads!RVx',\n",
       "  0),\n",
       " ('Dear Voucher Holder, To claim this weeks offer, at you PC please go to http://www.e-tlp.co.uk/expressoffer Ts&Cs apply. To stop texts, txt STOP to 80062',\n",
       "  1),\n",
       " (\"Thank you so much. When we skyped wit kz and sura, we didnt get the pleasure of your company. Hope you are good. We've given you ultimatum oh! We are countin down to aburo. Enjoy! This is the message i sent days ago\",\n",
       "  0),\n",
       " ('Surely result will offer:)', 0),\n",
       " ('Good Morning my Dear........... Have a great &amp; successful day.', 0),\n",
       " ('Do you want 750 anytime any network mins 150 text and a NEW VIDEO phone for only five pounds per week call 08002888812 or reply for delivery tomorrow',\n",
       "  1),\n",
       " (\"Sir, I have been late in paying rent for the past few months and had to pay a $ &lt;#&gt;  charge. I felt it would be inconsiderate of me to nag about something you give at great cost to yourself and that's why i didnt speak up. I however am in a recession and wont be able to pay the charge this month hence my askin well ahead of month's end. Can you please help. Thanks\",\n",
       "  0),\n",
       " ('We tried to contact you re our offer of New Video Phone 750 anytime any network mins HALF PRICE Rental camcorder call 08000930705 or reply for delivery Wed',\n",
       "  1),\n",
       " ('Last chance 2 claim ur å£150 worth of discount vouchers-Text YES to 85023 now!SavaMob-member offers mobile T Cs 08717898035. å£3.00 Sub. 16 . Remove txt X or STOP',\n",
       "  1),\n",
       " ('I luv u soo much u donåÕt understand how special u r 2 me ring u 2morrow luv u xxx',\n",
       "  0),\n",
       " (\"Pls send me a comprehensive mail about who i'm paying, when and how much.\",\n",
       "  0),\n",
       " (\"Our Prashanthettan's mother passed away last night. pray for her and family.\",\n",
       "  0),\n",
       " ('Urgent! call 09066350750 from your landline. Your complimentary 4* Ibiza Holiday or 10,000 cash await collection SAE T&Cs PO BOX 434 SK3 8WP 150 ppm 18+ ',\n",
       "  1),\n",
       " ('K.k:)when are you going?', 0),\n",
       " (\"Meanwhile in the shit suite: xavier decided to give us  &lt;#&gt;  seconds of warning that samantha was coming over and is playing jay's guitar to impress her or some shit. Also I don't think doug realizes I don't live here anymore\",\n",
       "  0),\n",
       " (\"My stomach has been thru so much trauma I swear I just can't eat. I better lose weight.\",\n",
       "  0),\n",
       " ('I am in office:)whats the matter..msg me now.i will call you at break:).',\n",
       "  0),\n",
       " (\"Yeah there's barely enough room for the two of us, x has too many fucking shoes. Sorry man, see you later\",\n",
       "  0),\n",
       " (\"Today's Offer! Claim ur å£150 worth of discount vouchers! Text YES to 85023 now! SavaMob, member offers mobile! T Cs 08717898035. å£3.00 Sub. 16 . Unsub reply X\",\n",
       "  1),\n",
       " ('U reach orchard already? U wan 2 go buy tickets first?', 0),\n",
       " ('I am real, baby! I want to bring out your inner tigress...', 0),\n",
       " ('No da if you run that it activate the full version da.', 0),\n",
       " ('\\\\AH POOR BABY!HOPE URFEELING BETTERSN LUV! PROBTHAT OVERDOSE OF WORK HEY GO CAREFUL SPK 2 U SN LOTS OF LOVEJEN XXX.\\\\\"\"',\n",
       "  0),\n",
       " (\"Stop the story. I've told him i've returned it and he's saying i should not re order it.\",\n",
       "  0),\n",
       " ('Talk sexy!! Make new friends or fall in love in the worlds most discreet text dating service. Just text VIP to 83110 and see who you could meet.',\n",
       "  1),\n",
       " ('Going to take your babe out ?', 0),\n",
       " ('Hai ana tomarrow am coming on morning.  &lt;DECIMAL&gt;  ill be there in sathy then we ll go to RTO office. Reply me after came to home.',\n",
       "  0),\n",
       " ('Spoons it is then okay?', 0),\n",
       " ('Did he just say somebody is named tampa', 0),\n",
       " ('In work now. Going have in few min.', 0),\n",
       " ('Your brother is a genius', 0),\n",
       " (\"Sorry, I guess whenever I can get a hold of my connections, maybe an hour or two? I'll text you\",\n",
       "  0),\n",
       " ('Did u find out what time the bus is at coz i need to sort some stuff out.',\n",
       "  0),\n",
       " ('Dude ive been seeing a lotta corvettes lately', 0),\n",
       " ('Congratulations ur awarded either a yrs supply of CDs from Virgin Records or a Mystery Gift GUARANTEED Call 09061104283 Ts&Cs www.smsco.net å£1.50pm approx 3mins',\n",
       "  1),\n",
       " (\"Same here, but I consider walls and bunkers and shit important just because I never play on peaceful but I guess your place is high enough that it don't matter\",\n",
       "  0),\n",
       " ('PRIVATE! Your 2003 Account Statement for 07808 XXXXXX shows 800 un-redeemed S. I. M. points. Call 08719899217 Identifier Code: 41685 Expires 07/11/04',\n",
       "  1),\n",
       " ('Hello. We need some posh birds and chaps to user trial prods for champneys. Can i put you down? I need your address and dob asap. Ta r',\n",
       "  1),\n",
       " ('What do U want for Xmas? How about 100 free text messages & a new video phone with half price line rental? Call free now on 0800 0721072 to find out more!',\n",
       "  1),\n",
       " ('Well am officially in a philosophical hole, so if u wanna call am at home ready to be saved!',\n",
       "  0),\n",
       " ('Its going good...no problem..but still need little experience to understand american customer voice...',\n",
       "  0),\n",
       " (\"I'll text you when I drop x off\", 0),\n",
       " (\"Ugh its been a long day. I'm exhausted. Just want to cuddle up and take a nap\",\n",
       "  0),\n",
       " ('Talk With Yourself Atleast Once In A Day...!!! Otherwise You Will Miss Your Best FRIEND In This WORLD...!!! -Shakespeare- SHESIL  &lt;#&gt;',\n",
       "  0),\n",
       " ('Shop till u Drop, IS IT YOU, either 10K, 5K, å£500 Cash or å£100 Travel voucher, Call now, 09064011000. NTT PO Box CR01327BT fixedline Cost 150ppm mobile vary',\n",
       "  1),\n",
       " ('Are you in castor? You need to see something', 0),\n",
       " ('Sunshine Quiz Wkly Q! Win a top Sony DVD player if u know which country Liverpool played in mid week? Txt ansr to 82277. å£1.50 SP:Tyrone',\n",
       "  1),\n",
       " ('U have a secret admirer who is looking 2 make contact with U-find out who they R*reveal who thinks UR so special-call on 09058094565',\n",
       "  1),\n",
       " ('U have a Secret Admirer who is looking 2 make contact with U-find out who they R*reveal who thinks UR so special-call on 09065171142-stopsms-08',\n",
       "  1),\n",
       " ('Reminder: You have not downloaded the content you have already paid for. Goto http://doit. mymoby. tv/ to collect your content.',\n",
       "  1),\n",
       " (\"see, i knew giving you a break a few times woul lead to you always wanting to miss curfew. I was gonna gibe you 'til one, but a MIDNIGHT movie is not gonna get out til after 2. You need to come home. You need to getsleep and, if anything, you need to b studdying ear training.\",\n",
       "  0),\n",
       " ('I love to give massages. I use lots of baby oil... What is your fave position?',\n",
       "  0),\n",
       " ('Dude we should go sup again', 0),\n",
       " ('Yoyyooo u know how to change permissions for a drive in mac. My usb flash drive',\n",
       "  0),\n",
       " ('Gibbs unsold.mike hussey', 0),\n",
       " ('I like to talk pa but am not able to. I dont know y.', 0),\n",
       " (\"Y dun cut too short leh. U dun like ah? She failed. She's quite sad.\", 0),\n",
       " ('You unbelievable faglord', 0),\n",
       " ('Wife.how she knew the time of murder exactly', 0),\n",
       " ('Why do you ask princess?', 0),\n",
       " ('I am great princess! What are you thinking about me? :)', 0),\n",
       " ('Nutter. Cutter. Ctter. Cttergg. Cttargg. Ctargg. Ctagg. ie you', 0),\n",
       " (\"It's ok i noe u're busy but i'm really too bored so i msg u. I oso dunno wat colour she choose 4 me one.\",\n",
       "  0),\n",
       " (\"Doesn't g have class early tomorrow and thus shouldn't be trying to smoke at  &lt;#&gt;\",\n",
       "  0),\n",
       " ('Superb Thought- \\\\Be grateful that u dont have everything u want. That means u still have an opportunity to be happier tomorrow than u are today.\\\\\":-)\"',\n",
       "  0),\n",
       " ('Hope you are having a good week. Just checking in', 0),\n",
       " (\"I'm used to it. I just hope my agents don't drop me since i've only booked a few things this year. This whole me in boston, them in nyc was an experiment.\",\n",
       "  0),\n",
       " (\"Thursday night? Yeah, sure thing, we'll work it out then\", 0),\n",
       " ('Your free ringtone is waiting to be collected. Simply text the password \\\\MIX\\\\\" to 85069 to verify. Get Usher and Britney. FML',\n",
       "  1),\n",
       " ('Probably money worries. Things are coming due and i have several outstanding invoices for work i did two and three months ago.',\n",
       "  0),\n",
       " ('How is it possible to teach you. And where.', 0),\n",
       " ('I wonder if your phone battery went dead ? I had to tell you, I love you babe',\n",
       "  0),\n",
       " (\"Lovely smell on this bus and it ain't tobacco... \", 0),\n",
       " (\"We're all getting worried over here, derek and taylor have already assumed the worst\",\n",
       "  0),\n",
       " (\"Hey what's up charles sorry about the late reply.\", 0),\n",
       " ('all the lastest from Stereophonics, Marley, Dizzee Racal, Libertines and The Strokes! Win Nookii games with Flirt!! Click TheMob WAP Bookmark or text WAP to 82468',\n",
       "  1),\n",
       " ('I.ll give her once i have it. Plus she said grinule greet you whenever we speak',\n",
       "  0),\n",
       " ('WHITE FUDGE OREOS ARE IN STORES', 0),\n",
       " ('January Male Sale! Hot Gay chat now cheaper, call 08709222922. National rate from 1.5p/min cheap to 7.8p/min peak! To stop texts call 08712460324 (10p/min)',\n",
       "  1),\n",
       " (\"My love ! How come it took you so long to leave for Zaher's? I got your words on ym and was happy to see them but was sad you had left. I miss you\",\n",
       "  0),\n",
       " ('I am sorry it hurt you.', 0),\n",
       " (\"Can't. I feel nauseous. I'm so pissed. I didn't eat any sweets all week cause today I was planning to pig out. I was dieting all week. And now I'm not hungry :/\",\n",
       "  0),\n",
       " ('Ok lor but not too early. Me still having project meeting now.', 0),\n",
       " ('Call me da, i am waiting for your call.', 0),\n",
       " ('I could ask carlos if we could get more if anybody else can chip in', 0),\n",
       " ('Was actually about to send you a reminder today. Have a wonderful weekend',\n",
       "  0),\n",
       " (\"When people see my msgs, They think Iam addicted to msging... They are wrong, Bcoz They don\\\\'t know that Iam addicted to my sweet Friends..!! BSLVYL\",\n",
       "  0),\n",
       " ('Hey you gave them your photo when you registered for driving ah? Tmr wanna meet at yck? ',\n",
       "  0),\n",
       " ('Dont talk to him ever ok its my word.', 0),\n",
       " ('When u wana see it then', 0),\n",
       " (\"On ma way to school. Can you pls send me ashley's number\", 0),\n",
       " ('It shall be fine. I have avalarr now. Will hollalater', 0),\n",
       " (\"She went to attend another two rounds today..but still did't reach home..\",\n",
       "  0),\n",
       " ('Actually i deleted my old website..now i m blogging at magicalsongs.blogspot.com',\n",
       "  0),\n",
       " ('K, wait chikku..il send aftr  &lt;#&gt; mins', 0),\n",
       " (\"But I'm on a diet. And I ate 1 too many slices of pizza yesterday. Ugh I'm ALWAYS on a diet.\",\n",
       "  0),\n",
       " ('K:)i will give my kvb acc details:)', 0),\n",
       " ('Oh all have to come ah?', 0),\n",
       " ('money!!! you r a lucky winner ! 2 claim your prize text money 2 88600 over å£1million to give away ! ppt150x3+normal text rate box403 w1t1jy',\n",
       "  1),\n",
       " (\"I'm really sorry i won't b able 2 do this friday.hope u can find an alternative.hope yr term's going ok:-)\",\n",
       "  0),\n",
       " ('Congratulations ore mo owo re wa. Enjoy it and i wish you many happy moments to and fro wherever you go',\n",
       "  0),\n",
       " ('So do you have samus shoulders yet', 0),\n",
       " (\"What time you think you'll have it? Need to know when I should be near campus\",\n",
       "  0),\n",
       " ('Dear Matthew please call 09063440451 from a landline, your complimentary 4*Lux Tenerife holiday or å£1000 CASH await collection. ppm150 SAE T&Cs Box334 SK38XH.',\n",
       "  1),\n",
       " ('Then dun wear jeans lor...', 0),\n",
       " ('Since when, which side, any fever, any vomitin.', 0),\n",
       " ('K:)k.are you in college?', 0),\n",
       " ('Urgent! call 09061749602 from Landline. Your complimentary 4* Tenerife Holiday or å£10,000 cash await collection SAE T&Cs BOX 528 HP20 1YF 150ppm 18+',\n",
       "  1),\n",
       " ('Better. Made up for Friday and stuffed myself like a pig yesterday. Now I feel bleh. But at least its not writhing pain kind of bleh.',\n",
       "  0),\n",
       " (\"No we sell it all so we'll have tons if coins. Then sell our coins to someone thru paypal. Voila! Money back in life pockets:)\",\n",
       "  0),\n",
       " ('Theyre doing it to lots of places. Only hospitals and medical places are safe.',\n",
       "  0),\n",
       " ('How about getting in touch with folks waiting for company? Just txt back your NAME and AGE to opt in! Enjoy the community (150p/SMS)',\n",
       "  1),\n",
       " (\"And also I've sorta blown him off a couple times recently so id rather not text him out of the blue looking for weed\",\n",
       "  0),\n",
       " ('I sent my scores to sophas and i had to do secondary application for a few schools. I think if you are thinking of applying, do a research on cost also. Contact joke ogunrinde, her school is one me the less expensive ones',\n",
       "  0),\n",
       " ('I cant wait to see you! How were the photos were useful? :)', 0),\n",
       " ('Ur cash-balance is currently 500 pounds - to maximize ur cash-in now send GO to 86688 only 150p/msg. CC: 08718720201 PO BOX 114/14 TCR/W1',\n",
       "  1),\n",
       " ('Hey i booked the kb on sat already... what other lessons are we going for ah? Keep your sat night free we need to meet and confirm our lodging ',\n",
       "  0),\n",
       " ('Chk in ur belovd ms dict', 0),\n",
       " ('Is that what time you want me to come?', 0),\n",
       " (\"Awesome, lemme know whenever you're around\", 0),\n",
       " ('Shb b ok lor... Thanx...', 0),\n",
       " ('Beautiful Truth against Gravity.. Read carefully: \\\\Our heart feels light when someone is in it.. But it feels very heavy when someone leaves it..\\\\\" GOOD NIGHT\"',\n",
       "  0),\n",
       " (\"Also remember to get dobby's bowl from your car\", 0),\n",
       " ('Filthy stories and GIRLS waiting for your', 1),\n",
       " (\"Sorry i now then c ur msg... Yar lor so poor thing... But only 4 one night... Tmr u'll have a brand new room 2 sleep in...\",\n",
       "  0),\n",
       " (\"Love isn't a decision, it's a feeling. If we could decide who to love, then, life would be much simpler, but then less magical\",\n",
       "  0),\n",
       " ('Welp apparently he retired', 0),\n",
       " (\"My sort code is  and acc no is . The bank is natwest. Can you reply to confirm i've sent this to the right person!\",\n",
       "  0),\n",
       " ('Where @', 0),\n",
       " (\"U sure u can't take any sick time?\", 0),\n",
       " ('URGENT! We are trying to contact U. Todays draw shows that you have won a å£800 prize GUARANTEED. Call 09050001808 from land line. Claim M95. Valid12hrs only',\n",
       "  1),\n",
       " ('Watching cartoon, listening music &amp; at eve had to go temple &amp; church.. What about u?',\n",
       "  0),\n",
       " ('Yo chad which gymnastics class do you wanna take? The site says Christians class is full..',\n",
       "  0),\n",
       " ('Are you this much buzy', 0),\n",
       " ('Or better still can you catch her and let ask her if she can sell  &lt;#&gt;  for me.',\n",
       "  0),\n",
       " ('I am not sure about night menu. . . I know only about noon menu', 0),\n",
       " ('What do u want when i come back?.a beautiful necklace as a token of my heart for you.thats what i will give but ONLY to MY WIFE OF MY LIKING.BE THAT AND SEE..NO ONE can give you that.dont call me.i will wait till i come.',\n",
       "  0),\n",
       " ('Are you willing to go for aptitude class.', 0),\n",
       " ('It wont b until 2.15 as trying 2 sort house out, is that ok?', 0),\n",
       " ('Yar lor he wan 2 go c horse racing today mah, so eat earlier lor. I ate chicken rice. U?',\n",
       "  0),\n",
       " ('Haha awesome, omw back now then', 0),\n",
       " ('Yup i thk so until e shop closes lor.', 0),\n",
       " ('what is your account number?', 0),\n",
       " ('Eh u send wrongly lar...', 0),\n",
       " ('Hey no I ad a crap nite was borin without ya 2 boggy with me u boring biatch! Thanx but u wait til nxt time il ave ya ',\n",
       "  0),\n",
       " ('Ok i shall talk to him', 0),\n",
       " ('Dont hesitate. You know this is the second time she has had weakness like that. So keep i notebook of what she eat and did the day before or if anything changed the day before so that we can be sure its nothing',\n",
       "  0),\n",
       " ('Hey you can pay. With salary de. Only  &lt;#&gt; .', 0),\n",
       " ('Another month. I need chocolate weed and alcohol.', 0),\n",
       " ('If he started searching he will get job in few days.he have great potential and talent.',\n",
       "  0),\n",
       " ('Reckon need to be in town by eightish to walk from * carpark.', 0),\n",
       " ('Congrats! 2 mobile 3G Videophones R yours. call 09063458130 now! videochat wid your mates, play java games, Dload polyPH music, noline rentl.',\n",
       "  1),\n",
       " ('LOOK AT THE FUCKIN TIME. WHAT THE FUCK YOU THINK IS UP', 0),\n",
       " ('Yo guess what I just dropped', 0),\n",
       " (\"Carlos says he'll be at mu in  &lt;#&gt;  minutes\", 0),\n",
       " (\"I'm in office now . I will call you  &lt;#&gt;  min:)\", 0),\n",
       " (\"Geeee ... I miss you already, you know ? Your all I can think about. Fuck, I can't wait till next year when we will be together ... *loving kiss*\",\n",
       "  0),\n",
       " ('Yun ah.the ubi one say if Ì_ wan call by tomorrow.call 67441233 look for irene.ere only got bus8,22,65,61,66,382. Ubi cres,ubi tech park.6ph for 1st 5wkg days.Ì¬n',\n",
       "  0),\n",
       " ('Ugh. Gotta drive back to sd from la. My butt is sore.', 0),\n",
       " ('26th OF JULY', 0),\n",
       " ('Hi im having the most relaxing time ever! we have to get up at 7am every day! was the party good the other night? I get home tomorrow at 5ish.',\n",
       "  0),\n",
       " ('Up to Ì_... ÌÏ wan come then come lor... But i din c any stripes skirt...',\n",
       "  0),\n",
       " ('The Xmas story is peace.. The Xmas msg is love.. The Xmas miracle is jesus.. Hav a blessed month ahead &amp; wish U Merry Xmas...',\n",
       "  0),\n",
       " (\"I can't, I don't have her number!\", 0),\n",
       " (\"Change again... It's e one next to escalator...\", 0),\n",
       " (\"Yetunde i'm in class can you not run water on it to make it ok. Pls now.\",\n",
       "  0),\n",
       " ('Not a lot has happened here. Feels very quiet. Beth is at her aunts and charlie is working lots. Just me and helen in at the mo. How have you been? ',\n",
       "  0),\n",
       " ('Then Ì_ wait 4 me at bus stop aft ur lect lar. If i dun c Ì_ then i go get my car then come back n pick Ì_.',\n",
       "  0),\n",
       " ('Aight will do, thanks again for comin out', 0),\n",
       " ...]"
      ]
     },
     "metadata": {},
     "execution_count": 6
    }
   ],
   "source": [
    "# Mining Texts\n",
    "texts = []\n",
    "for index, row in data.iterrows():\n",
    "    texts.append((row['text'], row['label']))\n",
    "texts"
   ]
  },
  {
   "cell_type": "code",
   "execution_count": 7,
   "metadata": {},
   "outputs": [
    {
     "output_type": "execute_result",
     "data": {
      "text/plain": [
       "(['Anything',\n",
       "  'lor',\n",
       "  'but',\n",
       "  'toa',\n",
       "  'payoh',\n",
       "  'got',\n",
       "  'place',\n",
       "  '2',\n",
       "  'walk',\n",
       "  'meh'],\n",
       " 0)"
      ]
     },
     "metadata": {},
     "execution_count": 7
    }
   ],
   "source": [
    "# Remove Whitespace and Punctuation\n",
    "tokenized = []\n",
    "for t in texts:\n",
    "    m = t[0]\n",
    "    text = re.sub('[' + string.punctuation + ']', ' ', m) # Regular Expression\n",
    "    text = re.sub('[\\n\\t\\r]', '', text)\n",
    "    words = text.split()\n",
    "    tokenized.append((words, t[1]))\n",
    "tokenized[2020]"
   ]
  },
  {
   "cell_type": "code",
   "execution_count": 8,
   "metadata": {},
   "outputs": [
    {
     "output_type": "stream",
     "name": "stdout",
     "text": [
      "Sentence before stopwrods removed: \n",
      " (['Anything', 'lor', 'but', 'toa', 'payoh', 'got', 'place', '2', 'walk', 'meh'], 0)\n",
      "\n",
      "Sentence after stopwords removed: \n",
      " (['Anything', 'lor', 'toa', 'payoh', 'place', 'walk', 'meh'], 0)\n"
     ]
    }
   ],
   "source": [
    "# Remove Stopwords\n",
    "stopwords = []\n",
    "try:\n",
    "    f = open('stopwords.txt', 'r') # Read Only\n",
    "    stopwords = f.read().split('\\n')\n",
    "except IOError:\n",
    "    print('Problem opening file')\n",
    "finally:\n",
    "    f.close()\n",
    "print('Sentence before stopwrods removed: \\n', tokenized[2020])\n",
    "\n",
    "filtered = []\n",
    "for t in tokenized:\n",
    "    text = t[0]\n",
    "    f_text = []\n",
    "    for word in text:\n",
    "        if word not in stopwords and len(word) > 2:\n",
    "            f_text.append(word)\n",
    "    filtered.append((f_text, t[1]))\n",
    "\n",
    "print('\\nSentence after stopwords removed: \\n', filtered[2020])"
   ]
  },
  {
   "cell_type": "code",
   "execution_count": 9,
   "metadata": {},
   "outputs": [
    {
     "output_type": "execute_result",
     "data": {
      "text/plain": [
       "(['anyth', 'lor', 'toa', 'payoh', 'place', 'walk', 'meh'], 0)"
      ]
     },
     "metadata": {},
     "execution_count": 9
    }
   ],
   "source": [
    "# Stem the Words\n",
    "stemmer = PorterStemmer() # Deal with Participles\n",
    "stemmed = []\n",
    "for t in filtered:\n",
    "    text = t[0]\n",
    "    stemmed_text = []\n",
    "    for word in text:\n",
    "        stemmed_word = stemmer.stem(word.lower())\n",
    "        stemmed_text.append(stemmed_word)\n",
    "    stemmed.append((stemmed_text, t[1]))\n",
    "\n",
    "stemmed[2020]"
   ]
  },
  {
   "cell_type": "code",
   "execution_count": 10,
   "metadata": {},
   "outputs": [],
   "source": [
    "# Counting Frequency of Words\n",
    "word_count = {}\n",
    "for t in stemmed:\n",
    "    text = t[0]\n",
    "    already_counted = []\n",
    "    for word in text:\n",
    "        if word not in word_count:\n",
    "            word_count[word] = 1\n",
    "        elif word not in already_counted:\n",
    "            word_count[word] += 1\n",
    "            already_counted.append(word)\n",
    "\n",
    "#  Removing the Words that Occur Once\n",
    "for i in range(len(stemmed)):\n",
    "    stemmed[i] = (list(filter(lambda x: word_count[x] > 4, stemmed[i][0])), stemmed[i][1])"
   ]
  },
  {
   "cell_type": "code",
   "execution_count": 11,
   "metadata": {},
   "outputs": [],
   "source": [
    "# Split Data\n",
    "totaltexts = data.label.value_counts()\n",
    "total = totaltexts[0] + totaltexts[1]\n",
    "test_number = int(0.20 * total)"
   ]
  },
  {
   "cell_type": "code",
   "execution_count": 12,
   "metadata": {},
   "outputs": [
    {
     "output_type": "execute_result",
     "data": {
      "text/plain": [
       "(0.8000717875089735, 0.19992821249102657)"
      ]
     },
     "metadata": {},
     "execution_count": 12
    }
   ],
   "source": [
    "# Train Test Split\n",
    "test_set = []\n",
    "taken = {}\n",
    "\n",
    "while len(test_set) < test_number:\n",
    "    num = random.randint(0, test_number - 1)\n",
    "    if num not in taken.keys():\n",
    "        test_set.append(stemmed.pop(num))\n",
    "        taken[num] = 1\n",
    "\n",
    "train_set = stemmed\n",
    "\n",
    "number_of_hams = data.label.value_counts()[0]\n",
    "number_of_spams = data.label.value_counts()[1]\n",
    "\n",
    "len(train_set) / total, len(test_set) / total"
   ]
  },
  {
   "source": [
    "Recall the Bayes Theorem, \n",
    "$$\n",
    "\\mathbb{P}(\\text{Spam} \\vert \\text{Word}) = \\frac{\\mathbb{P}(\\text{Word} \\vert \\text{Spam}) \\cdot \\mathbb{P}(\\text{Spam})}{\\mathbb{P}(\\text{Word} \\vert \\text{Spam}) \\cdot \\mathbb{P}(\\text{Spam}) + \\mathbb{P}(\\text{Word} \\vert \\text{Ham}) \\cdot \\mathbb{P}(\\text{Ham})}.\n",
    "$$"
   ],
   "cell_type": "markdown",
   "metadata": {}
  },
  {
   "cell_type": "code",
   "execution_count": 13,
   "metadata": {},
   "outputs": [],
   "source": [
    "def p_appears_in_spam(word):\n",
    "    count = 0\n",
    "    total_spams = 0\n",
    "\n",
    "    for t in train_set:\n",
    "        text = t[0]\n",
    "        if t[1] == 1:\n",
    "            total_spams += 1\n",
    "            if word in text:\n",
    "                count += 1\n",
    "\n",
    "    return count / total_spams"
   ]
  },
  {
   "cell_type": "code",
   "execution_count": 14,
   "metadata": {},
   "outputs": [],
   "source": [
    "def p_appears_in_ham(word):\n",
    "    count = 0\n",
    "    total_hams = 0\n",
    "\n",
    "    for t in train_set:\n",
    "        text = t[0]\n",
    "        if t[1] == 0:\n",
    "            total_hams += 1\n",
    "            if word in text:\n",
    "                count += 1\n",
    "\n",
    "    return count / total_hams"
   ]
  },
  {
   "cell_type": "code",
   "execution_count": 15,
   "metadata": {},
   "outputs": [],
   "source": [
    "def total_spams_and_hams(tset):\n",
    "    spams = 0\n",
    "    hams = 0\n",
    "\n",
    "    for t in tset:\n",
    "        spams += 1 if t[1] == 1 else 0\n",
    "        hams += 1 if t[1] == 0 else 0\n",
    "    \n",
    "    return spams, hams"
   ]
  },
  {
   "cell_type": "code",
   "execution_count": 16,
   "metadata": {},
   "outputs": [],
   "source": [
    "p_spam = total_spams_and_hams(train_set)[0] / len(train_set)\n",
    "p_ham = total_spams_and_hams(train_set)[1] / len(train_set)"
   ]
  },
  {
   "cell_type": "code",
   "execution_count": 17,
   "metadata": {},
   "outputs": [],
   "source": [
    "def p_is_spam_given_word(word):\n",
    "    return (p_appears_in_spam(word) * p_spam) / ((p_appears_in_spam(word) * p_spam + p_appears_in_ham(word) * p_ham))"
   ]
  },
  {
   "cell_type": "code",
   "execution_count": 18,
   "metadata": {},
   "outputs": [
    {
     "output_type": "stream",
     "name": "stdout",
     "text": [
      "Probability that a message is spam given the word \"discount\" is: 0.75\n"
     ]
    }
   ],
   "source": [
    "word = 'discount'\n",
    "print('Probability that a message is spam given the word \"{}\" is: {}'.format(word, p_is_spam_given_word(word)))"
   ]
  },
  {
   "cell_type": "code",
   "execution_count": 19,
   "metadata": {},
   "outputs": [],
   "source": [
    "probabilities = {}\n",
    "\n",
    "for t in train_set:\n",
    "    text = t[0]\n",
    "\n",
    "    for word in text:\n",
    "        if word not in probabilities:\n",
    "            p = p_is_spam_given_word(word)\n",
    "\n",
    "            if p == 0:\n",
    "                probabilities[word] = 0.001 # To deal with the zero probability problem. Tweaking this value\n",
    "            elif p == 1:\n",
    "                probabilities[word] = 0.999 # Tweaking this value\n",
    "            else:\n",
    "                probabilities[word] = p"
   ]
  },
  {
   "cell_type": "code",
   "execution_count": 20,
   "metadata": {},
   "outputs": [],
   "source": [
    "from functools import reduce\n",
    "\n",
    "def p_is_spam(words):\n",
    "    probs = []\n",
    "    for word in words:\n",
    "        if word in probabilities:\n",
    "            probs.append(probabilities[word])\n",
    "        else:\n",
    "            probs.append(0.5) # for Unseen Words\n",
    "    \n",
    "    probs_not = list(map(lambda prob: 1 - prob, probs))\n",
    "    product = reduce(lambda x, y: x * y, probs, 1) \n",
    "    product_not = reduce(lambda x, y: x * y, probs_not, 1)\n",
    "    return product / (product + product_not)"
   ]
  },
  {
   "cell_type": "code",
   "execution_count": 21,
   "metadata": {},
   "outputs": [
    {
     "output_type": "stream",
     "name": "stdout",
     "text": [
      "Total test texts:  1114\nNumber of correct:  1087\nAccuracy:  97.57630161579893\n-------------------------------\nHam precision:  0.9735234215885947\nHam recall:  0.9989550679205852\nSpam precision:  0.9924242424242424\nSpam recall:  0.8343949044585988\n-------------------------------\nFalse Positives (hams that got labeled as spam):\n1: Words in text: ['from', 'the', 'award', 'month', 'current', 'month'] | Degree of certainty: 0.9853495632267187\n"
     ]
    }
   ],
   "source": [
    "total_correct = 0\n",
    "true_spam_as_spam = 0\n",
    "true_spam_as_ham = 0\n",
    "true_ham_as_ham = 0\n",
    "true_ham_as_spam = 0\n",
    "\n",
    "false_positives = []\n",
    "\n",
    "for t in test_set:\n",
    "    guess = -1\n",
    "    words = t[0]\n",
    "    answer = t[1]\n",
    "    p_spam = p_is_spam(words)\n",
    "    # If p > 0.95, predict 'yes' (is spam)\n",
    "    guess = 1 if p_spam > 0.95 else 0\n",
    "    if guess == answer:\n",
    "        total_correct += 1\n",
    "        if answer == 0: # true negative\n",
    "            true_ham_as_ham += 1\n",
    "        else: # true positive\n",
    "            true_spam_as_spam += 1 \n",
    "    else:\n",
    "        if answer == 0: # false positive\n",
    "            true_ham_as_spam += 1\n",
    "            false_positives.append((words, p_spam))\n",
    "        else: # true negative\n",
    "            true_spam_as_ham += 1\n",
    "\n",
    "true_spams = total_spams_and_hams(test_set)[0]\n",
    "true_hams = total_spams_and_hams(test_set)[1]\n",
    "\n",
    "print('Total test texts: ', len(test_set))\n",
    "print('Number of correct: ', total_correct)\n",
    "print('Accuracy: ', total_correct * 100 / (true_spams + true_hams))\n",
    "print('-------------------------------')\n",
    "print('Ham precision: ', true_ham_as_ham / (true_ham_as_ham + true_spam_as_ham))\n",
    "print('Ham recall: ', true_ham_as_ham / (true_ham_as_ham + true_ham_as_spam))\n",
    "print('Spam precision: ', true_spam_as_spam / (true_spam_as_spam + true_ham_as_spam)) # Most important \n",
    "print('Spam recall: ', true_spam_as_spam / (true_spam_as_spam + true_spam_as_ham))\n",
    "print('-------------------------------')\n",
    "print('False Positives (hams that got labeled as spam):')\n",
    "\n",
    "for i, (text, p) in enumerate(false_positives):\n",
    "    print('{}: Words in text: {} | Degree of certainty: {}'.format(i + 1, text, p))"
   ]
  },
  {
   "cell_type": "code",
   "execution_count": null,
   "metadata": {},
   "outputs": [],
   "source": []
  }
 ]
}